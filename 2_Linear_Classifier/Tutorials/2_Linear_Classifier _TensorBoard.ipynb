{
 "cells": [
  {
   "cell_type": "markdown",
   "metadata": {},
   "source": [
    "# TensorBoard-activated Linear Classifier \n",
    "\n",
    "In the [previous tutorial](https://github.com/easy-tensorflow/easy-tensorflow/blob/master/2_Linear_Classifier/Tutorials/1_Linear_Classifier.ipynb) we learned how to create and train a simple linear classifier model. Here, we'll add the required codes to:\n",
    "\n",
    "1. Visualize the network graph\n",
    "2. Monitor the training procedure \n",
    "\n",
    "on TensorBoard. If you're not familiar with TensorBoard yet, feel free to read our tutorial [Here](https://github.com/easy-tensorflow/easy-tensorflow/blob/master/1_TensorFlow_Basics/Tutorials/3_Introduction_to_Tensorboard.ipynb) to learn the basics of TensorBoard.\n",
    "\n",
    "Here we assume that you've already read and understand our [Linear classifier](https://github.com/easy-tensorflow/easy-tensorflow/blob/master/2_Linear_Classifier/Tutorials/1_Linear_Classifier.ipynb) tutorial and will only make changes and add codes wherever needed to add TensorBoard features to it. \n",
    "\n",
    "to be completed soon"
   ]
  },
  {
   "cell_type": "code",
   "execution_count": null,
   "metadata": {},
   "outputs": [],
   "source": []
  }
 ],
 "metadata": {
  "kernelspec": {
   "display_name": "Python 2",
   "language": "python",
   "name": "python2"
  },
  "language_info": {
   "codemirror_mode": {
    "name": "ipython",
    "version": 2
   },
   "file_extension": ".py",
   "mimetype": "text/x-python",
   "name": "python",
   "nbconvert_exporter": "python",
   "pygments_lexer": "ipython2",
   "version": "2.7.14"
  }
 },
 "nbformat": 4,
 "nbformat_minor": 1
}
