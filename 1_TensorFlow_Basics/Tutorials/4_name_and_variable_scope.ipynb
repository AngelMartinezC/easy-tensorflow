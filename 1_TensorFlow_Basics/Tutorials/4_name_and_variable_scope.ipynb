{
 "cells": [
  {
   "cell_type": "markdown",
   "metadata": {},
   "source": [
    "# Name_scope vs. Variable_scope Explained\n",
    "\n",
    "\n",
    "## 1. name_scope:\n",
    "Now that we've learned how to visualize the graph, the question is what is the best way to visualize the graph of networks with hundreds and thousands of operations (i.e. nodes). \n",
    "\n",
    "You might be shocked now, but Yes! Today's deep networks can have many thousands of nodes which makes it hard to see them all at once. "
   ]
  },
  {
   "cell_type": "code",
   "execution_count": null,
   "metadata": {},
   "outputs": [],
   "source": []
  }
 ],
 "metadata": {
  "kernelspec": {
   "display_name": "Python 2",
   "language": "python",
   "name": "python2"
  },
  "language_info": {
   "codemirror_mode": {
    "name": "ipython",
    "version": 2
   },
   "file_extension": ".py",
   "mimetype": "text/x-python",
   "name": "python",
   "nbconvert_exporter": "python",
   "pygments_lexer": "ipython2",
   "version": "2.7.14"
  }
 },
 "nbformat": 4,
 "nbformat_minor": 1
}
